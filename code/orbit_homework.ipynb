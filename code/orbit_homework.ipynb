{
 "cells": [
  {
   "cell_type": "markdown",
   "metadata": {},
   "source": [
    "# Modeling and Simulation in Python\n",
    "\n",
    "Starter code for the orbit example\n",
    "\n",
    "Copyright 2017 Allen Downey\n",
    "\n",
    "License: [Creative Commons Attribution 4.0 International](https://creativecommons.org/licenses/by/4.0)\n"
   ]
  },
  {
   "cell_type": "code",
   "execution_count": 1,
   "metadata": {},
   "outputs": [],
   "source": [
    "# Configure Jupyter so figures appear in the notebook\n",
    "%matplotlib inline\n",
    "\n",
    "# Configure Jupyter to display the assigned value after an assignment\n",
    "%config InteractiveShell.ast_node_interactivity='last_expr_or_assign'\n",
    "\n",
    "# import functions from the modsim.py module\n",
    "from modsim import *"
   ]
  },
  {
   "cell_type": "code",
   "execution_count": 2,
   "metadata": {},
   "outputs": [],
   "source": [
    "s = UNITS.second\n",
    "N = UNITS.newton\n",
    "kg = UNITS.kilogram\n",
    "m = UNITS.meter\n",
    "radians = UNITS.radian\n",
    "degrees = UNITS.degrees;"
   ]
  },
  {
   "cell_type": "code",
   "execution_count": 3,
   "metadata": {},
   "outputs": [
    {
     "data": {
      "text/html": [
       "<div>\n",
       "<style scoped>\n",
       "    .dataframe tbody tr th:only-of-type {\n",
       "        vertical-align: middle;\n",
       "    }\n",
       "\n",
       "    .dataframe tbody tr th {\n",
       "        vertical-align: top;\n",
       "    }\n",
       "\n",
       "    .dataframe thead th {\n",
       "        text-align: right;\n",
       "    }\n",
       "</style>\n",
       "<table border=\"1\" class=\"dataframe\">\n",
       "  <thead>\n",
       "    <tr style=\"text-align: right;\">\n",
       "      <th></th>\n",
       "      <th>values</th>\n",
       "    </tr>\n",
       "  </thead>\n",
       "  <tbody>\n",
       "    <tr>\n",
       "      <th>x</th>\n",
       "      <td>152000000000.0 meter</td>\n",
       "    </tr>\n",
       "    <tr>\n",
       "      <th>y</th>\n",
       "      <td>0 meter</td>\n",
       "    </tr>\n",
       "    <tr>\n",
       "      <th>vx</th>\n",
       "      <td>30330.0 meter / second</td>\n",
       "    </tr>\n",
       "    <tr>\n",
       "      <th>vy</th>\n",
       "      <td>30330.0 meter / second</td>\n",
       "    </tr>\n",
       "  </tbody>\n",
       "</table>\n",
       "</div>"
      ],
      "text/plain": [
       "x       152000000000.0 meter\n",
       "y                    0 meter\n",
       "vx    30330.0 meter / second\n",
       "vy    30330.0 meter / second\n",
       "dtype: object"
      ]
     },
     "execution_count": 3,
     "metadata": {},
     "output_type": "execute_result"
    }
   ],
   "source": [
    "# And an inition condition (with everything in SI units)\n",
    "\n",
    "r_0 = 147e9 * m\n",
    "v_0 = 30330 * m / s\n",
    "x_0 = 1.52e11 * m\n",
    "y_0 = 0 * m\n",
    "\n",
    "init = State(x = x_0,\n",
    "             y = y_0, \n",
    "             vx = v_0,\n",
    "             vy = v_0)"
   ]
  },
  {
   "cell_type": "code",
   "execution_count": 4,
   "metadata": {},
   "outputs": [
    {
     "data": {
      "text/html": [
       "<div>\n",
       "<style scoped>\n",
       "    .dataframe tbody tr th:only-of-type {\n",
       "        vertical-align: middle;\n",
       "    }\n",
       "\n",
       "    .dataframe tbody tr th {\n",
       "        vertical-align: top;\n",
       "    }\n",
       "\n",
       "    .dataframe thead th {\n",
       "        text-align: right;\n",
       "    }\n",
       "</style>\n",
       "<table border=\"1\" class=\"dataframe\">\n",
       "  <thead>\n",
       "    <tr style=\"text-align: right;\">\n",
       "      <th></th>\n",
       "      <th>values</th>\n",
       "    </tr>\n",
       "  </thead>\n",
       "  <tbody>\n",
       "    <tr>\n",
       "      <th>init</th>\n",
       "      <td>x       152000000000.0 meter\n",
       "y                ...</td>\n",
       "    </tr>\n",
       "    <tr>\n",
       "      <th>G</th>\n",
       "      <td>6.674e-11 meter ** 2 * newton / kilogram ** 2</td>\n",
       "    </tr>\n",
       "    <tr>\n",
       "      <th>m1</th>\n",
       "      <td>1.989e+30 kilogram</td>\n",
       "    </tr>\n",
       "    <tr>\n",
       "      <th>r_final</th>\n",
       "      <td>701879000.0 meter</td>\n",
       "    </tr>\n",
       "    <tr>\n",
       "      <th>m2</th>\n",
       "      <td>5.972e+24 kilogram</td>\n",
       "    </tr>\n",
       "    <tr>\n",
       "      <th>t_0</th>\n",
       "      <td>0 second</td>\n",
       "    </tr>\n",
       "    <tr>\n",
       "      <th>t_end</th>\n",
       "      <td>10000000.0 second</td>\n",
       "    </tr>\n",
       "  </tbody>\n",
       "</table>\n",
       "</div>"
      ],
      "text/plain": [
       "init       x       152000000000.0 meter\n",
       "y                ...\n",
       "G              6.674e-11 meter ** 2 * newton / kilogram ** 2\n",
       "m1                                        1.989e+30 kilogram\n",
       "r_final                                    701879000.0 meter\n",
       "m2                                        5.972e+24 kilogram\n",
       "t_0                                                 0 second\n",
       "t_end                                      10000000.0 second\n",
       "dtype: object"
      ]
     },
     "execution_count": 4,
     "metadata": {},
     "output_type": "execute_result"
    }
   ],
   "source": [
    "# Making a system object\n",
    "\n",
    "r_earth = 6.371e6 * m\n",
    "r_sun = 695.508e6 * m\n",
    "\n",
    "system = System(init=init,\n",
    "                G=6.674e-11 * N / kg**2 * m**2,\n",
    "                m1=1.989e30 * kg,\n",
    "                r_final=r_sun + r_earth,\n",
    "                m2=5.972e24 * kg,\n",
    "                t_0=0 * s,\n",
    "                t_end=1e7 * s)"
   ]
  },
  {
   "cell_type": "code",
   "execution_count": 34,
   "metadata": {},
   "outputs": [],
   "source": [
    "def universal_gravitation(r, system):\n",
    "    \"\"\"Computes gravitational force.\n",
    "    \n",
    "    state: State object with distance r\n",
    "    system: System object with m1, m2, and G\n",
    "    \"\"\"\n",
    "    unpack(system)\n",
    "    \n",
    "    Fg = G * m1 * m2 / (r.mag **2) #uses law of universal gravitation to find earth-sun force\n",
    "    θ = -r.hat() #represents the direction of a vector as a unit vector\n",
    "    \n",
    "    ForceVector = Fg * θ \n",
    "    \n",
    "    return ForceVector\n"
   ]
  },
  {
   "cell_type": "code",
   "execution_count": 35,
   "metadata": {},
   "outputs": [
    {
     "data": {
      "text/html": [
       "[1.52e+11 0.00e+00] meter"
      ],
      "text/latex": [
       "$[1.52e+11 0.00e+00] meter$"
      ],
      "text/plain": [
       "<Quantity([1.52e+11 0.00e+00], 'meter')>"
      ]
     },
     "execution_count": 35,
     "metadata": {},
     "output_type": "execute_result"
    }
   ],
   "source": [
    "r = Vector(init.x, init.y)"
   ]
  },
  {
   "cell_type": "code",
   "execution_count": 36,
   "metadata": {},
   "outputs": [
    {
     "data": {
      "text/html": [
       "[-3.43125985e+22 -0.00000000e+00] newton"
      ],
      "text/latex": [
       "$[-3.43125985e+22 -0.00000000e+00] newton$"
      ],
      "text/plain": [
       "<Quantity([-3.43125985e+22 -0.00000000e+00], 'newton')>"
      ]
     },
     "execution_count": 36,
     "metadata": {},
     "output_type": "execute_result"
    }
   ],
   "source": [
    "universal_gravitation(r, system)"
   ]
  },
  {
   "cell_type": "code",
   "execution_count": 37,
   "metadata": {},
   "outputs": [],
   "source": [
    "# The slope function\n",
    "\n",
    "def slope_func(state, t, system):\n",
    "    \n",
    "    x, y, vx, vy = state\n",
    "    unpack(system)    \n",
    "    \n",
    "    r = Vector(x, y)\n",
    "\n",
    "    force = universal_gravitation(r, system)\n",
    "    acceleration = force/m2 \n",
    "    dvxdt, dvydt = acceleration[0], acceleration[1]\n",
    "    dxdt, dydt = vx, vy\n",
    "    \n",
    "    return dxdt, dydt, dvxdt, dvydt"
   ]
  },
  {
   "cell_type": "code",
   "execution_count": 38,
   "metadata": {},
   "outputs": [
    {
     "data": {
      "text/plain": [
       "(<Quantity(30330.0, 'meter / second')>,\n",
       " <Quantity(30330.0, 'meter / second')>,\n",
       " <Quantity(-0.005745579120498614, 'newton / kilogram')>,\n",
       " <Quantity(-0.0, 'newton / kilogram')>)"
      ]
     },
     "execution_count": 38,
     "metadata": {},
     "output_type": "execute_result"
    }
   ],
   "source": [
    "slope_func(init, 0, system)"
   ]
  },
  {
   "cell_type": "code",
   "execution_count": 41,
   "metadata": {
    "scrolled": false
   },
   "outputs": [],
   "source": [
    "results, details = run_ode_solver(system, slope_func)#, events=event_func)\n",
    "details;"
   ]
  },
  {
   "cell_type": "code",
   "execution_count": 21,
   "metadata": {},
   "outputs": [
    {
     "data": {
      "text/html": [
       "115.74074074074075 second"
      ],
      "text/latex": [
       "$115.74074074074075 second$"
      ],
      "text/plain": [
       "<Quantity(115.74074074074075, 'second')>"
      ]
     },
     "execution_count": 21,
     "metadata": {},
     "output_type": "execute_result"
    }
   ],
   "source": [
    "t_final = get_last_label(results) * s"
   ]
  },
  {
   "cell_type": "code",
   "execution_count": 42,
   "metadata": {},
   "outputs": [
    {
     "data": {
      "text/html": [
       "[0.00000000e+00 5.78703704e-02 1.15740741e-01 ... 1.15625000e+02 1.15682870e+02 1.15740741e+02] second"
      ],
      "text/latex": [
       "$[0.00000000e+00 5.78703704e-02 1.15740741e-01 ... 1.15625000e+02 1.15682870e+02 1.15740741e+02] second$"
      ],
      "text/plain": [
       "<Quantity([0.00000000e+00 5.78703704e-02 1.15740741e-01 ... 1.15625000e+02\n",
       " 1.15682870e+02 1.15740741e+02], 'second')>"
      ]
     },
     "execution_count": 42,
     "metadata": {},
     "output_type": "execute_result"
    }
   ],
   "source": [
    "ts = linspace(t_0, t_final, 2001)\n",
    "# results, details = run_ode_solver(system, slope_func, events=event_func, t_eval=ts)"
   ]
  },
  {
   "cell_type": "code",
   "execution_count": 43,
   "metadata": {},
   "outputs": [],
   "source": [
    "# Scaling the time steps to days\n",
    "\n",
    "results.index /= 60 * 60 * 24"
   ]
  },
  {
   "cell_type": "code",
   "execution_count": 46,
   "metadata": {},
   "outputs": [],
   "source": [
    "# Scaling the distance to million km\n",
    "\n",
    "#r = results.r / 1e9;"
   ]
  },
  {
   "cell_type": "code",
   "execution_count": 51,
   "metadata": {},
   "outputs": [
    {
     "data": {
      "image/png": "[encoded data removed]",
      "text/plain": [
       "<Figure size 432x288 with 1 Axes>"
      ]
     },
     "metadata": {
      "needs_background": "light"
     },
     "output_type": "display_data"
    }
   ],
   "source": [
    "# And plotting\n",
    "\n",
    "plot(results.x, label='. ')\n",
    "\n",
    "decorate(xlabel='.',\n",
    "         ylabel='.')"
   ]
  },
  {
   "cell_type": "code",
   "execution_count": null,
   "metadata": {},
   "outputs": [],
   "source": []
  }
 ],
 "metadata": {
  "kernelspec": {
   "display_name": "Python 3",
   "language": "python",
   "name": "python3"
  },
  "language_info": {
   "codemirror_mode": {
    "name": "ipython",
    "version": 3
   },
   "file_extension": ".py",
   "mimetype": "text/x-python",
   "name": "python",
   "nbconvert_exporter": "python",
   "pygments_lexer": "ipython3",
   "version": "3.6.6"
  }
 },
 "nbformat": 4,
 "nbformat_minor": 2
}
