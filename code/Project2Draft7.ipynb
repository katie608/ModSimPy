{
 "cells": [
  {
   "cell_type": "markdown",
   "metadata": {},
   "source": [
    "# Project 2 Draft 7\n",
    "\n",
    "11/1/2018"
   ]
  },
  {
   "cell_type": "code",
   "execution_count": 53,
   "metadata": {},
   "outputs": [],
   "source": [
    "# Configure Jupyter so figures appear in the notebook\n",
    "%matplotlib inline\n",
    "\n",
    "# Configure Jupyter to display the assigned value after an assignment\n",
    "%config InteractiveShell.ast_node_interactivity='last_expr_or_assign'\n",
    "\n",
    "# import functions from the modsim.py module\n",
    "from modsim import *"
   ]
  },
  {
   "cell_type": "markdown",
   "metadata": {},
   "source": [
    "### Make System Function"
   ]
  },
  {
   "cell_type": "code",
   "execution_count": 77,
   "metadata": {},
   "outputs": [
    {
     "data": {
      "text/html": [
       "<div>\n",
       "<style scoped>\n",
       "    .dataframe tbody tr th:only-of-type {\n",
       "        vertical-align: middle;\n",
       "    }\n",
       "\n",
       "    .dataframe tbody tr th {\n",
       "        vertical-align: top;\n",
       "    }\n",
       "\n",
       "    .dataframe thead th {\n",
       "        text-align: right;\n",
       "    }\n",
       "</style>\n",
       "<table border=\"1\" class=\"dataframe\">\n",
       "  <thead>\n",
       "    <tr style=\"text-align: right;\">\n",
       "      <th></th>\n",
       "      <th>values</th>\n",
       "    </tr>\n",
       "  </thead>\n",
       "  <tbody>\n",
       "    <tr>\n",
       "      <th>t0</th>\n",
       "      <td>0.000000e+00</td>\n",
       "    </tr>\n",
       "    <tr>\n",
       "      <th>t_end</th>\n",
       "      <td>2.000000e+02</td>\n",
       "    </tr>\n",
       "    <tr>\n",
       "      <th>dt</th>\n",
       "      <td>1.000000e+00</td>\n",
       "    </tr>\n",
       "    <tr>\n",
       "      <th>a</th>\n",
       "      <td>1.000000e+00</td>\n",
       "    </tr>\n",
       "    <tr>\n",
       "      <th>Nh</th>\n",
       "      <td>4.000000e+07</td>\n",
       "    </tr>\n",
       "    <tr>\n",
       "      <th>θ1</th>\n",
       "      <td>5.000000e-02</td>\n",
       "    </tr>\n",
       "    <tr>\n",
       "      <th>θ2</th>\n",
       "      <td>6.000000e-02</td>\n",
       "    </tr>\n",
       "    <tr>\n",
       "      <th>φ1</th>\n",
       "      <td>5.000000e-02</td>\n",
       "    </tr>\n",
       "    <tr>\n",
       "      <th>φ2</th>\n",
       "      <td>9.000000e-02</td>\n",
       "    </tr>\n",
       "    <tr>\n",
       "      <th>λh1</th>\n",
       "      <td>1.000000e+07</td>\n",
       "    </tr>\n",
       "    <tr>\n",
       "      <th>λh2</th>\n",
       "      <td>1.200000e+06</td>\n",
       "    </tr>\n",
       "    <tr>\n",
       "      <th>λm1</th>\n",
       "      <td>8.000000e-02</td>\n",
       "    </tr>\n",
       "    <tr>\n",
       "      <th>λm2</th>\n",
       "      <td>1.440000e-01</td>\n",
       "    </tr>\n",
       "    <tr>\n",
       "      <th>δm</th>\n",
       "      <td>7.000000e-02</td>\n",
       "    </tr>\n",
       "    <tr>\n",
       "      <th>c</th>\n",
       "      <td>4.000000e+00</td>\n",
       "    </tr>\n",
       "    <tr>\n",
       "      <th>μ1</th>\n",
       "      <td>3.000000e-05</td>\n",
       "    </tr>\n",
       "    <tr>\n",
       "      <th>μ2</th>\n",
       "      <td>5.000000e-05</td>\n",
       "    </tr>\n",
       "    <tr>\n",
       "      <th>ν</th>\n",
       "      <td>2.000000e-05</td>\n",
       "    </tr>\n",
       "    <tr>\n",
       "      <th>α1</th>\n",
       "      <td>1.000000e-04</td>\n",
       "    </tr>\n",
       "    <tr>\n",
       "      <th>α2</th>\n",
       "      <td>5.000000e-05</td>\n",
       "    </tr>\n",
       "    <tr>\n",
       "      <th>γ1</th>\n",
       "      <td>5.000000e-02</td>\n",
       "    </tr>\n",
       "    <tr>\n",
       "      <th>γ2</th>\n",
       "      <td>9.000000e-02</td>\n",
       "    </tr>\n",
       "    <tr>\n",
       "      <th>bNh</th>\n",
       "      <td>3.300000e-02</td>\n",
       "    </tr>\n",
       "    <tr>\n",
       "      <th>w</th>\n",
       "      <td>4.000000e-01</td>\n",
       "    </tr>\n",
       "    <tr>\n",
       "      <th>P1</th>\n",
       "      <td>6.400000e-01</td>\n",
       "    </tr>\n",
       "    <tr>\n",
       "      <th>P2</th>\n",
       "      <td>3.200000e-01</td>\n",
       "    </tr>\n",
       "  </tbody>\n",
       "</table>\n",
       "</div>"
      ],
      "text/plain": [
       "t0       0.000000e+00\n",
       "t_end    2.000000e+02\n",
       "dt       1.000000e+00\n",
       "a        1.000000e+00\n",
       "Nh       4.000000e+07\n",
       "θ1       5.000000e-02\n",
       "θ2       6.000000e-02\n",
       "φ1       5.000000e-02\n",
       "φ2       9.000000e-02\n",
       "λh1      1.000000e+07\n",
       "λh2      1.200000e+06\n",
       "λm1      8.000000e-02\n",
       "λm2      1.440000e-01\n",
       "δm       7.000000e-02\n",
       "c        4.000000e+00\n",
       "μ1       3.000000e-05\n",
       "μ2       5.000000e-05\n",
       "ν        2.000000e-05\n",
       "α1       1.000000e-04\n",
       "α2       5.000000e-05\n",
       "γ1       5.000000e-02\n",
       "γ2       9.000000e-02\n",
       "bNh      3.300000e-02\n",
       "w        4.000000e-01\n",
       "P1       6.400000e-01\n",
       "P2       3.200000e-01\n",
       "dtype: float64"
      ]
     },
     "execution_count": 77,
     "metadata": {},
     "output_type": "execute_result"
    }
   ],
   "source": [
    "init = State(S1=19.2e6, S2=14.4e6, I1=4.8e6, I2=1.6e6, M=0.8)\n",
    "\n",
    "\"\"\"\n",
    "S1 = number of uninfected individuals with AA genotype\n",
    "S2 = number of uninfected individuals with AS genotype\n",
    "I1 = number of infected individuals with AA genotype\n",
    "I2 = number of infected individuals with AS genotype\n",
    "M = Proportion of mosquitoes with plasmodium parasite\n",
    "\"\"\"\n",
    "system = System(t0=0, t_end=200, dt = 1,\n",
    "                  a = 1, #Biting rate per human per mosquito.\n",
    "                  #aa = aa, #Proportion decrease in biting rate w/ mosquito nets\n",
    "                  Nh = 40000000, #=S1 + S2 + I1 + I2 ; Total human population\n",
    "                  θ1 = 0.05, #Probability that an individual acquires plasmodium per bite type AA\n",
    "                  #θ1a = θ1a, #Proportion decrease in probability of acquiring plasmodium \n",
    "                  θ2 = 0.06, #Probability that an individual acquires plasmodium per bite type AS\n",
    "                  #θ2a = θ2a, #Proportion decarease in probability of acquiring plasmodium\n",
    "                  φ1 = 0.05, #Probability that a mosquito acquires plasmodium from biting an infected individual type AA\n",
    "                  φ2 = 0.09, #Probability that a mosquito acquires plasmodium from biting an infected individual type AS\n",
    "                  λh1 = 10e6, # = aθ1(Im/Nh), Im = 1e15 x 0.8\n",
    "                  λh2 = 1.2e6, # = aθ2(Im/Nh), Im = 1e15 x 0.8\n",
    "                  λm1 = 0.08, # = aφ1(I1+I2 +εR)/Nh\n",
    "                  λm2 = 0.144, # = aφ1(I1+I2 +εR)/Nh\n",
    "                  δm = 0.07, #Mortality rate of mosquitoes\n",
    "                  c = 4, #Ratio of mosquitoes to human.\n",
    "                  μ1 = 0.00003, #Human natural mortality rate\n",
    "                  μ2 = 0.00005, #Human natural mortality rate + mortality rate due to sickle cell complications\n",
    "                  ν = 0.00002, #Extra mortality due to sickle cell gene complications\n",
    "                  α1 = 0.0001, #Malaria-induced mortality rate for genotype AA\n",
    "                  α2 = 0.00005, #Malaria-induced mortality rate for genotype AS\n",
    "                  #q = q, Frequency of the S-gene\n",
    "                  γ1 = 0.05, #Recovery rate from malaria for genotype AA\n",
    "                  γ2 = 0.09, #Recovery rate from malaria for genotype AS\n",
    "                  bNh = 0.033, #Per capita birth rate of humans b(1 − Nh/K), b = 0.00004, K = 10000 (per year)\n",
    "                  w = 0.4, #Fraction of AS individuals w- 0.1, w = 0.7, which one to use? w = 0.4\n",
    "                  P1 = 0.64, #Fraction of the total birth of individuals of genotype AA = 0.64\n",
    "                  P2 = 0.32) #Fraction of the total birth of individuals of genotype AS = 0.32"
   ]
  },
  {
   "cell_type": "markdown",
   "metadata": {},
   "source": [
    "### Plot Results"
   ]
  },
  {
   "cell_type": "code",
   "execution_count": 94,
   "metadata": {},
   "outputs": [],
   "source": [
    "def plot_results(results):\n",
    "    \"\"\"Plot the results of a RLEV model.\n",
    "    \"\"\"\n",
    "    \n",
    "    #plot(S1, '--', label='Succeptible 1')\n",
    "    #plot(S2, '-', label='Succeptible 2')\n",
    "    plot(results.I1, '', label='AA Genotype')\n",
    "    plot(results.I2, '', label='AS Genotype')\n",
    "    #plot(M, ':', label='Proportion of Mosquitos Infected')\n",
    "    decorate(xlabel='Time (days)',\n",
    "             ylabel='Population')"
   ]
  },
  {
   "cell_type": "markdown",
   "metadata": {},
   "source": [
    "### Update Function"
   ]
  },
  {
   "cell_type": "code",
   "execution_count": 91,
   "metadata": {},
   "outputs": [],
   "source": [
    "def update_func(state, t, system):\n",
    "    s1, s2, i1, i2, m = state\n",
    "    #unpack(system)\n",
    "    #functions from paper\n",
    "    Nh = s1 + s2 + i1 + i2\n",
    "    I_tot = i1 + i2\n",
    "    λh1 = a*θ1*(m/Nh)\n",
    "    λh2 = a*θ2*(m/Nh)\n",
    "    λm1 = a*φ1*(I_tot/Nh)\n",
    "    λm2 = a*φ2*(I_tot/Nh) #a*φ2*((I_tot + (ε * R))/Nh)\n",
    "    #bNh = b*(1 − Nh/K) # is this (1-Nh)/K or 1 - (Nh/K)??\n",
    "    \n",
    "    dS1_dt = (P1*bNh*Nh - μ1*s1 - λh1*s1 + γ1*i1)*dt\n",
    "    dS2_dt = (P2*bNh*Nh - μ2*s2 - λh2*s2 + γ2*i2)*dt\n",
    "    dI1_dt = (λh1*s1 - (μ1 + γ1 + α1)*i1)*dt\n",
    "    dI2_dt = (λh2*s2 - (μ2 + γ2 + α2)*i2)*dt\n",
    "    dm_dt  = ((1 - m) * (λm1 + λm2) - δm)*dt\n",
    "    \n",
    "    s1 += dS1_dt\n",
    "    s2 += dS2_dt\n",
    "    i1 += dI1_dt\n",
    "    i2 += dI2_dt\n",
    "    m  += dm_dt \n",
    "    \n",
    "    return State(S1=s1, S2=s2, I1=i1, I2=i2, M=m)"
   ]
  },
  {
   "cell_type": "markdown",
   "metadata": {},
   "source": [
    "### Run Simulation Function "
   ]
  },
  {
   "cell_type": "code",
   "execution_count": 92,
   "metadata": {},
   "outputs": [],
   "source": [
    "def run_simulation(system, update_func):\n",
    "    unpack(system)\n",
    "    \n",
    "    frame = TimeFrame(columns=init.index)\n",
    "    frame.row[t0] = init\n",
    "    \n",
    "    for t in linrange(t0, t_end/dt):\n",
    "        frame.row[t+1] = update_func(frame.row[t], t, system)\n",
    "    \n",
    "    return frame"
   ]
  },
  {
   "cell_type": "code",
   "execution_count": 95,
   "metadata": {},
   "outputs": [
    {
     "data": {
      "image/png": "[encoded data removed]",
      "text/plain": [
       "<Figure size 432x288 with 1 Axes>"
      ]
     },
     "metadata": {
      "needs_background": "light"
     },
     "output_type": "display_data"
    }
   ],
   "source": [
    "results = run_simulation(system, update_func)\n",
    "plot_results(results)\n",
    "\n",
    "# results.I1.plot()\n",
    "# results.I2.plot()\n",
    "# decorate(xlabel='Time (days)',\n",
    "#         ylabel='Number of Infected People')\n",
    "\n",
    "#plot_results(results)"
   ]
  },
  {
   "cell_type": "markdown",
   "metadata": {},
   "source": [
    "http://scholar.sun.ac.za/handle/10019.1/17989 (source of equations-you can download the full text by searching the web for \"Modelling Malaria and Sickle Cell Gene. by Juliet Nakakawa Thesis\" and it is currently the first result)\n",
    "\n",
    "https://www.nejm.org/doi/full/10.1056/NEJMoa1515257 (source of efficacy of Malaria Vaccine)\n"
   ]
  }
 ],
 "metadata": {
  "kernelspec": {
   "display_name": "Python 3",
   "language": "python",
   "name": "python3"
  },
  "language_info": {
   "codemirror_mode": {
    "name": "ipython",
    "version": 3
   },
   "file_extension": ".py",
   "mimetype": "text/x-python",
   "name": "python",
   "nbconvert_exporter": "python",
   "pygments_lexer": "ipython3",
   "version": "3.6.6"
  }
 },
 "nbformat": 4,
 "nbformat_minor": 2
}
