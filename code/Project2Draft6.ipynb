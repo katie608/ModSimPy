{
 "cells": [
  {
   "cell_type": "markdown",
   "metadata": {},
   "source": [
    "# Project 2 Draft 6\n",
    "\n",
    "10/29/2018"
   ]
  },
  {
   "cell_type": "code",
   "execution_count": 21,
   "metadata": {},
   "outputs": [],
   "source": [
    "# Configure Jupyter so figures appear in the notebook\n",
    "%matplotlib inline\n",
    "\n",
    "# Configure Jupyter to display the assigned value after an assignment\n",
    "%config InteractiveShell.ast_node_interactivity='last_expr_or_assign'\n",
    "\n",
    "# import functions from the modsim.py module\n",
    "from modsim import *"
   ]
  },
  {
   "cell_type": "code",
   "execution_count": 47,
   "metadata": {},
   "outputs": [
    {
     "data": {
      "text/html": [
       "<marquee direction=\"down\" width=\"500\" height=\"200\" behavior=\"alternate\" style=\"border:none:100%;\">\n",
       "  <marquee behavior=\"alternate\">\n",
       "    Mosquito\n",
       "  </marquee>\n",
       "Mosquito"
      ],
      "text/plain": [
       "<IPython.core.display.HTML object>"
      ]
     },
     "metadata": {},
     "output_type": "display_data"
    }
   ],
   "source": [
    "%%html\n",
    "<marquee direction=\"down\" width=\"500\" height=\"200\" behavior=\"alternate\" style=\"border:none:100%;\">\n",
    "  <marquee behavior=\"alternate\">\n",
    "    Mosquito\n",
    "  </marquee>\n",
    "Mosquito\n"
   ]
  },
  {
   "cell_type": "markdown",
   "metadata": {},
   "source": [
    "### Make System Function"
   ]
  },
  {
   "cell_type": "code",
   "execution_count": 22,
   "metadata": {},
   "outputs": [],
   "source": [
    "init = State(S1, S2, I1, I2, M)\n",
    "\"\"\"\n",
    "S1 = number of uninfected individuals with AA genotype\n",
    "S2 = number of uninfected individuals with AS genotype\n",
    "I1 = number of infected individuals with AA genotype\n",
    "I2 = number of infected individuals with AS genotype\n",
    "M = Proportion of mosquitoes with plasmodium parasite\n",
    "\"\"\"\"\n",
    "system = System(t0=t0, t_end=120, \n",
    "                  a = 1, #Biting rate per human per mosquito.\n",
    "                  #aa = aa, #Proportion decrease in biting rate w/ mosquito nets\n",
    "                  Nh = 40000000, #=S1 + S2 + I1 + I2 ; Total human population\n",
    "                  #θ1 = 0.05 θ1, #Probability that an individual acquires plasmodium per bite type AA\n",
    "                  #θ1a = θ1a, #Proportion decrease in probability of acquiring plasmodium \n",
    "                  #θ2 = θ2, #Probability that an individual acquires plasmodium per bite type AS\n",
    "                  #θ2a = θ2a, #Proportion decarease in probability of acquiring plasmodium\n",
    "                  #φ1 = φ1, #Probability that a mosquito acquires plasmodium from biting an infected individual type AA\n",
    "                  #φ2 = φ2, #Probability that a mosquito acquires plasmodium from biting an infected individual type AS\n",
    "                  λ1h = \n",
    "                  λ2h =\n",
    "                  λ1m = 10e6 # = aθ1(Im/Nh), Im = 1e15 x 0.8\n",
    "                  λ2m = 1.2e6 # = aθ2(Im/Nh), Im = 1e15 x 0.8\n",
    "                  δ = 0.07, #Mortality rate of mosquitoes\n",
    "                  c = 4, #Ratio of mosquitoes to human.\n",
    "                  μ1 = 0.00003, #Human natural mortality rate\n",
    "                  ν = 0.00002, #Extra mortality due to sickle cell gene complications\n",
    "                  α1 = 0.0001, #Malaria-induced mortality rate for genotype AA\n",
    "                  α2 = 0.00005, #Malaria-induced mortality rate for genotype AS\n",
    "                  #q = q, Frequency of the S-gene\n",
    "                  γ1 = 0.05, #Recovery rate from malaria for genotype AA\n",
    "                  γ2 = 0.09, #Recovery rate from malaria for genotype AS\n",
    "                  bNh = 0.033, #Per capita birth rate of humans b(1 − Nh/K), b = 0.00004, K = 10000 (per year)\n",
    "                  #b = b,\n",
    "                  #K = K,\n",
    "                  w = 0.4, #Fraction of AS individuals w- 0.1, w = 0.7, which one to use? w = 0.4\n",
    "                  P1 = 0.64, #Fraction of the total birth of individuals of genotype AA = 0.64\n",
    "                  P2 = 0.32) #Fraction of the total birth of individuals of genotype AS = 0.32\n",
    "                  #ε = \n",
    "                  #R = #number of humans that an infectious human infects during the time they are infectious\n",
    "    system = make_system(init, 1, Nh, 0.05, 0.06,  0.05,  0.09,  0.07, 4, 0.00003,  0.00002, 0.0001,  \n",
    "                     0.00005,  q, 0.05,  (0.05,0.09???),  bNh, w, P1,  P2)\n",
    "                 a = Biting rate per human per mosquito.\n",
    "                  aa = Proportion decrease in biting rate w/ mosquito nets\n",
    "                  Nh =S1 + S2 + I1 + I2\n",
    "                  θ1 = Probability that an individual acquires plasmodium per bite type AA\n",
    "                  θ1a = Proportion decrease in probability of acquiring plasmodium \n",
    "                  θ2 = Probability that an individual acquires plasmodium per bite type AS\n",
    "                  θ2a = Proportion decarease in probability of acquiring plasmodium\n",
    "                  φ1 = Probability that a mosquito acquires plasmodium from biting an infected individual type AA\n",
    "                  φ2 = Probability that a mosquito acquires plasmodium from biting an infected individual type AS\n",
    "                  δ = Mortality rate of mosquitoes\n",
    "                  c = Ratio of mosquitoes to human.\n",
    "                  μ1 = Human natural mortality rate\n",
    "                  ν = Extra mortality due to sickle cell gene complications\n",
    "                  α1 = Malaria-induced mortality rate for genotype AA\n",
    "                  α2 = Malaria-induced mortality rate for genotype AS\n",
    "                  q = Frequency of the S-gene\n",
    "                  γ1 = Recovery rate from malaria for genotype AA\n",
    "                  γ2, = Recovery rate from malaria for genotype AS\n",
    "                  bNh, = Per capita birth rate of humans b(1 − Nh/K), b = 0.00004, K = 10000\n",
    "                  b = b\n",
    "                  K = K,\n",
    "                  w = Fraction of AS individuals w- 0.1, w = 0.7, which one to use? w = 0.4\n",
    "                  P1 = Fraction of the total birth of individuals of genotype AA = 0.64\n",
    "                  P2 = #Fraction of the total birth of individuals of genotype AS = 0.32\n",
    "                  ε = ε\n",
    "                  R = number of humans that an infectious human infects during the time they are infectious\n"
   ]
  },
  {
   "cell_type": "markdown",
   "metadata": {},
   "source": [
    "### Plot Results"
   ]
  },
  {
   "cell_type": "code",
   "execution_count": 23,
   "metadata": {},
   "outputs": [],
   "source": [
    "def plot_results(S1, S2, I1, I2, M):\n",
    "    \"\"\"Plot the results of a RLEV model.\n",
    "    \"\"\"\n",
    "    plot(S1, '--', label='Succeptible 1')\n",
    "    plot(S2, '-', label='Succeptible 2')\n",
    "    plot(I1, ':', label='Infected 1')\n",
    "    plot(I2, ':', label='Infected 2')\n",
    "    plot(M, ':', label='Proportion of Mosquitos Infected')\n",
    "    decorate(xlabel='Time (days)',\n",
    "             ylabel='Population')"
   ]
  },
  {
   "cell_type": "markdown",
   "metadata": {},
   "source": [
    "### Update Function"
   ]
  },
  {
   "cell_type": "code",
   "execution_count": 24,
   "metadata": {},
   "outputs": [],
   "source": [
    "def update_func(state, t, system):\n",
    "    s1, s2, i1, i2, m = state\n",
    "    unpack(system)\n",
    "    #functions from paper\n",
    "    #Nh = s1 + s2 + i1 + i2\n",
    "    #I_tot = i1 + i2\n",
    "    #λh1 = a*θ1*(m/Nh)\n",
    "    #λh2 = a*θ2*(m/Nh)\n",
    "    #λm1 = a*φ1*((I_tot + (ε * R))/Nh)\n",
    "    #λm1 = a*φ2*((I_tot + (ε * R))/Nh)\n",
    "    #bNh = b*(1 − Nh/K) # is this (1-Nh)/K or 1 - (Nh/K)??\n",
    "    \n",
    "    dS1_dt = P1*bNh*Nh - μ1*S1 - λh1*S1 + γ1*I1\n",
    "    dS2_dt = P2*bNh*Nh - μ2*S2 - λh2*S2 + γ2I2\n",
    "    dI1_dt = λh1*S1 - (μ1 + γ1 + α1)*I1\n",
    "    dI2_dt = λh2*S2 - (μ2 + γ2 + α2)*I2\n",
    "    dm_dt  = (1 - m) (λm1 + λm2) - δm\n",
    "    \n",
    "    s1 += dS1_dt\n",
    "    s2 += dS2_dt\n",
    "    i1 += dI1_dt\n",
    "    i2 += dI2_dt\n",
    "    m  += dm_dt \n",
    "    \n",
    "    return State(S1=s1, S2=s2, I1=i1, I2=i2, M=m)"
   ]
  },
  {
   "cell_type": "markdown",
   "metadata": {},
   "source": [
    "### Run Simulation Function "
   ]
  },
  {
   "cell_type": "code",
   "execution_count": 25,
   "metadata": {},
   "outputs": [],
   "source": [
    "def run_simulation(system, update_func):\n",
    "    unpack(system)\n",
    "    \n",
    "    frame = TimeFrame(columns=init.index)\n",
    "    frame.row[t0] = init\n",
    "    \n",
    "    for t in linrange(t0, t_end):\n",
    "        frame.row[t+1] = update_func(frame.row[t], t, system)\n",
    "    \n",
    "    return frame"
   ]
  },
  {
   "cell_type": "code",
   "execution_count": 26,
   "metadata": {},
   "outputs": [
    {
     "ename": "SyntaxError",
     "evalue": "invalid syntax (<ipython-input-26-0714b752a677>, line 2)",
     "output_type": "error",
     "traceback": [
      "\u001b[1;36m  File \u001b[1;32m\"<ipython-input-26-0714b752a677>\"\u001b[1;36m, line \u001b[1;32m2\u001b[0m\n\u001b[1;33m    0.00005,  q, 0.05,  (0.05,0.09???),  bNh, w, P1,  P2)\u001b[0m\n\u001b[1;37m                                  ^\u001b[0m\n\u001b[1;31mSyntaxError\u001b[0m\u001b[1;31m:\u001b[0m invalid syntax\n"
     ]
    }
   ],
   "source": [
    "results = run_simulation(system, update_func)\n",
    "plot_results(results.S1, results.S2, results.I1, results.I2, results.M)"
   ]
  },
  {
   "cell_type": "markdown",
   "metadata": {},
   "source": [
    "http://scholar.sun.ac.za/handle/10019.1/17989 (source of equations-you can download the full text by searching the web for \"Modelling Malaria and Sickle Cell Gene. by Juliet Nakakawa Thesis\" and it is currently the first result)\n",
    "\n",
    "https://www.nejm.org/doi/full/10.1056/NEJMoa1515257 (source of efficacy of Malaria Vaccine)\n"
   ]
  }
 ],
 "metadata": {
  "kernelspec": {
   "display_name": "Python 3",
   "language": "python",
   "name": "python3"
  },
  "language_info": {
   "codemirror_mode": {
    "name": "ipython",
    "version": 3
   },
   "file_extension": ".py",
   "mimetype": "text/x-python",
   "name": "python",
   "nbconvert_exporter": "python",
   "pygments_lexer": "ipython3",
   "version": "3.6.6"
  }
 },
 "nbformat": 4,
 "nbformat_minor": 2
}
